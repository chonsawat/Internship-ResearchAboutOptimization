{
 "cells": [
  {
   "cell_type": "code",
   "execution_count": 1,
   "metadata": {
    "collapsed": true
   },
   "outputs": [],
   "source": [
    "# Import modules\n",
    "import numpy as np\n",
    "import matplotlib.pyplot as plt\n",
    "from sklearn.datasets import load_iris\n",
    "\n",
    "\n",
    "# Import PySwarms\n",
    "import pyswarms as ps\n",
    "\n",
    "# Some more magic so that the notebook will reload external python modules;\n",
    "# see http://stackoverflow.com/questions/1907993/autoreload-of-modules-in-ipython\n",
    "%load_ext autoreload\n",
    "%autoreload 2"
   ]
  },
  {
   "cell_type": "code",
   "execution_count": 2,
   "outputs": [],
   "source": [
    "data = load_iris()"
   ],
   "metadata": {
    "collapsed": false,
    "pycharm": {
     "name": "#%%\n"
    }
   }
  },
  {
   "cell_type": "code",
   "execution_count": 3,
   "outputs": [],
   "source": [
    "# Store the features as X and the labels as y\n",
    "X = data.data\n",
    "y = data.target"
   ],
   "metadata": {
    "collapsed": false,
    "pycharm": {
     "name": "#%%\n"
    }
   }
  },
  {
   "cell_type": "code",
   "execution_count": 4,
   "outputs": [],
   "source": [
    "n_inputs = 4\n",
    "n_hidden = 20\n",
    "n_classes = 3\n",
    "\n",
    "num_samples = 150"
   ],
   "metadata": {
    "collapsed": false,
    "pycharm": {
     "name": "#%%\n"
    }
   }
  },
  {
   "cell_type": "code",
   "execution_count": 5,
   "outputs": [],
   "source": [
    "def logits_function(p):\n",
    "    \"\"\" Calculate roll-back the weights and biases\n",
    "\n",
    "    Inputs\n",
    "    ------\n",
    "    p: np.ndarray\n",
    "        The dimensions should include an unrolled version of the\n",
    "        weights and biases.\n",
    "\n",
    "    Returns\n",
    "    -------\n",
    "    numpy.ndarray of logits for layer 2\n",
    "\n",
    "    \"\"\"\n",
    "    # Roll-back the weights and biases\n",
    "    W1 = p[0:80].reshape((n_inputs,n_hidden))\n",
    "    b1 = p[80:100].reshape((n_hidden,))\n",
    "    W2 = p[100:160].reshape((n_hidden,n_classes))\n",
    "    b2 = p[160:163].reshape((n_classes,))\n",
    "\n",
    "    # Perform forward propagation\n",
    "    z1 = X.dot(W1) + b1  # Pre-activation in Layer 1\n",
    "    a1 = np.tanh(z1)     # Activation in Layer 1\n",
    "    logits = a1.dot(W2) + b2 # Pre-activation in Layer 2\n",
    "    return logits          # Logits for Layer 2"
   ],
   "metadata": {
    "collapsed": false,
    "pycharm": {
     "name": "#%%\n"
    }
   }
  },
  {
   "cell_type": "code",
   "execution_count": 6,
   "outputs": [],
   "source": [
    "# Forward propagation\n",
    "def forward_prop(params):\n",
    "    \"\"\"Forward propagation as objective function\n",
    "\n",
    "    This computes for the forward propagation of the neural network, as\n",
    "    well as the loss.\n",
    "\n",
    "    Inputs\n",
    "    ------\n",
    "    params: np.ndarray\n",
    "        The dimensions should include an unrolled version of the\n",
    "        weights and biases.\n",
    "\n",
    "    Returns\n",
    "    -------\n",
    "    float\n",
    "        The computed negative log-likelihood loss given the parameters\n",
    "    \"\"\"\n",
    "\n",
    "    logits = logits_function(params)\n",
    "\n",
    "    # Compute for the softmax of the logits\n",
    "    exp_scores = np.exp(logits)\n",
    "    probs = exp_scores / np.sum(exp_scores, axis=1, keepdims=True)\n",
    "\n",
    "    # Compute for the negative log likelihood\n",
    "\n",
    "    corect_logprobs = -np.log(probs[range(num_samples), y])\n",
    "    loss = np.sum(corect_logprobs) / num_samples\n",
    "\n",
    "    return loss"
   ],
   "metadata": {
    "collapsed": false,
    "pycharm": {
     "name": "#%%\n"
    }
   }
  },
  {
   "cell_type": "code",
   "execution_count": 7,
   "outputs": [],
   "source": [
    "def f(x):\n",
    "    \"\"\"Higher-level method to do forward_prop in the\n",
    "    whole swarm.\n",
    "\n",
    "    Inputs\n",
    "    ------\n",
    "    x: numpy.ndarray of shape (n_particles, dimensions)\n",
    "        The swarm that will perform the search\n",
    "\n",
    "    Returns\n",
    "    -------\n",
    "    numpy.ndarray of shape (n_particles, )\n",
    "        The computed loss for each particle\n",
    "    \"\"\"\n",
    "    n_particles = x.shape[0]\n",
    "    j = [forward_prop(x[i]) for i in range(n_particles)]\n",
    "    return np.array(j)"
   ],
   "metadata": {
    "collapsed": false,
    "pycharm": {
     "name": "#%%\n"
    }
   }
  },
  {
   "cell_type": "code",
   "execution_count": 8,
   "outputs": [
    {
     "name": "stderr",
     "output_type": "stream",
     "text": [
      "2022-05-05 16:24:47,259 - pyswarms.single.global_best - INFO - Optimize for 1000 iters with {'c1': 1.3465617890968198, 'c2': 1.3465617890968198, 'w': 0.6568594093155219}\n",
      "pyswarms.single.global_best: 100%|██████████|1000/1000, best_cost=9.18e-6\n",
      "2022-05-05 16:25:06,596 - pyswarms.single.global_best - INFO - Optimization finished | best cost: 9.181355288612518e-06, best pos: [-8.76651694e-02  8.09388523e-01 -4.07902049e-01  1.59429497e+00\n",
      " -1.01556566e+00 -5.15788010e-01 -4.52734455e-02  3.46425589e+00\n",
      " -2.74210233e-01 -1.39271107e+00  3.02745419e+00  6.27815580e-01\n",
      "  7.89852228e-01 -2.74413640e-01  1.29346991e+00 -6.77204426e-01\n",
      "  1.67377103e+01  1.71314116e+00  1.53600293e+00  1.97312329e+00\n",
      "  8.72072162e-01  2.58501688e-01  3.40776800e-01  1.33485917e+00\n",
      "  1.59860606e+00 -1.41068659e-01 -1.50144018e+00  2.49284853e+00\n",
      " -1.27774837e+00  1.69622346e+00  6.12890037e-01  3.03174750e-01\n",
      "  3.86105022e+00  1.55348159e+00  1.14212968e+00  1.29296979e+00\n",
      " -1.18528063e-02 -5.27297549e-01 -3.17385399e+00  9.92404468e-01\n",
      " -1.36157662e+00  1.65372581e+00  6.21504192e+00  2.95517666e+00\n",
      "  6.24115288e-01  1.21514375e+00  1.41684779e+00  1.10968556e+00\n",
      " -8.41554501e-01  9.41772289e-01  2.47380959e+00  3.11503747e-01\n",
      "  1.37680826e-01  1.24054224e-01 -4.17308874e+00  9.13191171e-02\n",
      "  1.53566507e+00  1.48708997e+00  1.19275750e-01 -3.62753348e+00\n",
      "  4.74515493e-01  1.42425664e+00  1.02257580e+00 -2.83253933e-01\n",
      "  8.36735957e-01  9.82653443e-01  2.61320264e+00  1.78543703e+00\n",
      "  5.37765677e-01  2.24806823e+00 -8.84720865e-01  8.18408991e-01\n",
      " -8.96285546e+00  3.97888707e-01  1.09084601e+00 -2.81844313e+00\n",
      "  4.83396956e+00  4.51701545e+00  1.45205630e+00  1.17006721e+00\n",
      "  1.51584259e+00 -1.63780321e+01  2.18400845e-01  1.83027814e+00\n",
      "  2.88775276e+00 -1.39461367e+00 -3.58519425e-02  5.49485799e+00\n",
      "  1.87545974e-01  4.99584726e-01 -3.64886746e-02 -6.87301459e+00\n",
      " -1.37241968e-01  2.65096122e-01  1.32750940e+00  4.34476069e+00\n",
      " -2.67916296e-01  7.21657169e-01 -7.80518153e-01 -3.42628278e-01\n",
      "  1.56757769e+00  8.14843441e-01  1.51805314e+00  1.24332115e+00\n",
      "  1.46555071e-01  4.38285156e+01 -1.07184663e+00 -1.42224800e+01\n",
      "  6.81535770e-01 -1.78578984e-02  6.33016435e-01  3.34213527e-01\n",
      "  1.73837502e-01  3.23792479e-01  5.91841456e+00 -2.95400802e-01\n",
      " -9.69160895e-01  5.67115512e+00 -8.08829788e+00  6.60103358e-01\n",
      "  1.37769639e+00 -6.63582908e+00 -1.54372691e+00  1.30380593e+00\n",
      "  1.76745050e+00  1.42993337e+00 -9.04424035e-01 -6.63999836e-01\n",
      " -1.11586372e-01  9.32549015e-01 -9.31148683e-02 -4.80740502e-01\n",
      "  1.07157296e+00 -4.55267856e-01  5.61738245e+00  1.29522482e+02\n",
      " -1.52127333e-02  1.34762421e+01 -1.48056892e+02  2.65116611e+00\n",
      "  1.21829344e+00 -9.63204638e-01  3.95087835e+00  8.88877433e-01\n",
      " -8.37934381e+00  9.79390555e-01  8.70020482e-01  9.44606228e+01\n",
      "  1.47359678e+00  5.12763421e-01  2.97379972e+00  2.44707078e-01\n",
      " -1.59126342e+00  1.30085046e-01  1.87315944e+00  2.17264547e+00\n",
      "  1.66165328e+00  1.15502540e+00  2.20559845e+00 -5.33929488e+01\n",
      "  1.32237842e+00  1.54144837e+00 -1.85107380e+00]\n"
     ]
    },
    {
     "name": "stdout",
     "output_type": "stream",
     "text": [
      "CPU times: total: 4 s\n",
      "Wall time: 19.3 s\n"
     ]
    }
   ],
   "source": [
    "%%time\n",
    "kappa = 0.90\n",
    "phi1 = 2.05\n",
    "phi2 = 2.05\n",
    "phi = phi1 + phi2\n",
    "chi = 2*kappa / abs(2-phi-np.sqrt(phi**2-4*phi))\n",
    "\n",
    "# Initialize swarm\n",
    "options = {'c1': chi*phi1, 'c2': chi*phi2, 'w':chi}\n",
    "\n",
    "# Call instance of PSO\n",
    "dimensions = (n_inputs * n_hidden) + (n_hidden * n_classes) + n_hidden + n_classes\n",
    "optimizer = ps.single.GlobalBestPSO(n_particles=100, dimensions=dimensions, options=options)\n",
    "\n",
    "# Perform optimization\n",
    "cost, pos = optimizer.optimize(f, iters=1000)"
   ],
   "metadata": {
    "collapsed": false,
    "pycharm": {
     "name": "#%%\n"
    }
   }
  },
  {
   "cell_type": "code",
   "execution_count": 9,
   "outputs": [],
   "source": [
    "def predict(pos):\n",
    "    \"\"\"\n",
    "    Use the trained weights to perform class predictions.\n",
    "\n",
    "    Inputs\n",
    "    ------\n",
    "    pos: numpy.ndarray\n",
    "        Position matrix found by the swarm. Will be rolled\n",
    "        into weights and biases.\n",
    "    \"\"\"\n",
    "    logits = logits_function(pos)\n",
    "    y_pred = np.argmax(logits, axis=1)\n",
    "    return y_pred"
   ],
   "metadata": {
    "collapsed": false,
    "pycharm": {
     "name": "#%%\n"
    }
   }
  },
  {
   "cell_type": "code",
   "execution_count": 10,
   "outputs": [
    {
     "data": {
      "text/plain": "1.0"
     },
     "execution_count": 10,
     "metadata": {},
     "output_type": "execute_result"
    }
   ],
   "source": [
    "(predict(pos) == y).mean()"
   ],
   "metadata": {
    "collapsed": false,
    "pycharm": {
     "name": "#%%\n"
    }
   }
  },
  {
   "cell_type": "code",
   "execution_count": null,
   "outputs": [],
   "source": [],
   "metadata": {
    "collapsed": false,
    "pycharm": {
     "name": "#%%\n"
    }
   }
  }
 ],
 "metadata": {
  "kernelspec": {
   "display_name": "Python 3",
   "language": "python",
   "name": "python3"
  },
  "language_info": {
   "codemirror_mode": {
    "name": "ipython",
    "version": 2
   },
   "file_extension": ".py",
   "mimetype": "text/x-python",
   "name": "python",
   "nbconvert_exporter": "python",
   "pygments_lexer": "ipython2",
   "version": "2.7.6"
  }
 },
 "nbformat": 4,
 "nbformat_minor": 0
}