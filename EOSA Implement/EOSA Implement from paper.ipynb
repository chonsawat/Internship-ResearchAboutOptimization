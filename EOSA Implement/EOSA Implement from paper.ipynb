{
 "cells": [
  {
   "cell_type": "code",
   "execution_count": 44,
   "outputs": [],
   "source": [
    "from settings.imports import *\n",
    "from settings.constants import modelrates\n",
    "\n",
    "# TODO: Delete while finished\n",
    "from pprint import pprint"
   ],
   "metadata": {
    "collapsed": false,
    "pycharm": {
     "name": "#%%\n"
    }
   }
  },
  {
   "cell_type": "code",
   "execution_count": 47,
   "outputs": [],
   "source": [
    "\"\"\"\n",
    "Function for models\n",
    "\"\"\"\n",
    "def cost_func(x: np.array) -> float:\n",
    "    return x.sum() ** 2\n",
    "\n",
    "def _fitness_model__(self, solution=None, minmax=0):\n",
    "    \"\"\" Assumption that objective function always return the original value \"\"\"\n",
    "    return self.objective_func(solution, self.problem_size) if minmax == 0 \\\n",
    "        else 1.0 / self.objective_func(solution, self.problem_size)\n",
    "\n",
    "def _create_solution__(self, minmax=0):\n",
    "    solution = np.random.uniform(self.domain_range[0], self.domain_range[1], self.problem_size)\n",
    "    fitness = self._fitness_model__(solution=solution, minmax=minmax)\n",
    "    return [solution, fitness]"
   ],
   "metadata": {
    "collapsed": false,
    "pycharm": {
     "name": "#%%\n"
    }
   }
  },
  {
   "cell_type": "code",
   "execution_count": 48,
   "metadata": {
    "collapsed": true
   },
   "outputs": [],
   "source": [
    "\"\"\" Docstrings for Ebola Optimizations Search Algorithms\n",
    "\n",
    "Ebola Optimization Search Algorithms Base Class Description:\n",
    "    Variables description:\n",
    "\n",
    "    Methods description:\n",
    "        createSusceptibleIndvd:\n",
    "        generatedIndexCase:\n",
    "\n",
    "\"\"\"\n",
    "class EOSA_base:\n",
    "    def __init__(self, modelrates=None):\n",
    "        \"\"\"\n",
    "        Initialize for Ebola Optimization Search Algorithms\n",
    "        \"\"\"\n",
    "        self.S = []\n",
    "        self.E = []\n",
    "        self.I = []\n",
    "        self.H = []\n",
    "        self.R = []\n",
    "        self.V = []\n",
    "        self.Q = []\n",
    "\n",
    "        self.modelrates = modelrates\n",
    "\n",
    "        self.sols = None\n",
    "        self.gbest = float('-inf')\n",
    "\n",
    "    def createSusceptibleIndvd(self, psize: int, LowerBound=0, UpperBound=1) -> np.array:\n",
    "        self.S = LowerBound + np.random.rand(psize) * (UpperBound + LowerBound)\n",
    "        return self.S\n",
    "\n",
    "    def generatedIndexCase(self, S: np.array) -> tuple[float, float]:\n",
    "        self.gbest = cbest = float('inf')\n",
    "        return self.gbest, cbest"
   ]
  },
  {
   "cell_type": "code",
   "execution_count": 45,
   "outputs": [
    {
     "name": "stdout",
     "output_type": "stream",
     "text": [
      "{'burial_rate': 0.4271077886262563,\n",
      " 'contact_rate_deceased': 0.1,\n",
      " 'contact_rate_infectious': 0.1,\n",
      " 'contact_rate_pathogen': 0.1,\n",
      " 'contact_rate_recovered': 0.1,\n",
      " 'decay_rate': 0.8074401551640625,\n",
      " 'disease_induced_death_rate': 0.559001737485932,\n",
      " 'hospital_treatment_rate': 0.8607305832563434,\n",
      " 'hospitalization_rate': 0.8960912999234932,\n",
      " 'natural_death_rate': 0.22793516254194168,\n",
      " 'quarantine_rate': 0.5107473025775657,\n",
      " 'recovery_rate': 0.11005192452767676,\n",
      " 'recruitment_rate': 0.1,\n",
      " 'vaccination_response_rate': 0.006952130531190703,\n",
      " 'vacination_rate': 0.8180147659224931}\n"
     ]
    }
   ],
   "source": [
    "if __name__ == \"__main__\":\n",
    "    # Set seed for always same random number generator\n",
    "    np.random.seed(42)\n",
    "\n",
    "    # Ebola Algorithms Object\n",
    "    ebola_optimization_search_algorithms = EOSA_base(modelrates=modelrates)\n",
    "    S = ebola_optimization_search_algorithms.createSusceptibleIndvd(100)\n",
    "    icase = ebola_optimization_search_algorithms.generatedIndexCase(S)\n",
    "    pprint(ebola_optimization_search_algorithms.modelrates)"
   ],
   "metadata": {
    "collapsed": false,
    "pycharm": {
     "name": "#%%\n"
    }
   }
  },
  {
   "cell_type": "code",
   "execution_count": 46,
   "outputs": [
    {
     "ename": "TypeError",
     "evalue": "cannot unpack non-iterable int object",
     "output_type": "error",
     "traceback": [
      "\u001B[1;31m---------------------------------------------------------------------------\u001B[0m",
      "\u001B[1;31mTypeError\u001B[0m                                 Traceback (most recent call last)",
      "Input \u001B[1;32mIn [46]\u001B[0m, in \u001B[0;36m<cell line: 2>\u001B[1;34m()\u001B[0m\n\u001B[0;32m      1\u001B[0m p \u001B[38;5;241m=\u001B[39m [\u001B[38;5;241m1\u001B[39m, \u001B[38;5;241m2\u001B[39m]\n\u001B[0;32m      2\u001B[0m \u001B[38;5;28;01mfor\u001B[39;00m elemment \u001B[38;5;129;01min\u001B[39;00m p:\n\u001B[1;32m----> 3\u001B[0m     idx, i \u001B[38;5;241m=\u001B[39m elemment\n\u001B[0;32m      4\u001B[0m     \u001B[38;5;28mprint\u001B[39m(idx, i)\n",
      "\u001B[1;31mTypeError\u001B[0m: cannot unpack non-iterable int object"
     ]
    }
   ],
   "source": [
    "p = [1, 2]\n",
    "for elemment in p:\n",
    "    idx, i = elemment\n",
    "    print(idx, i)"
   ],
   "metadata": {
    "collapsed": false,
    "pycharm": {
     "name": "#%%\n"
    }
   }
  },
  {
   "cell_type": "code",
   "execution_count": null,
   "outputs": [],
   "source": [],
   "metadata": {
    "collapsed": false,
    "pycharm": {
     "name": "#%%\n"
    }
   }
  }
 ],
 "metadata": {
  "kernelspec": {
   "display_name": "Python 3",
   "language": "python",
   "name": "python3"
  },
  "language_info": {
   "codemirror_mode": {
    "name": "ipython",
    "version": 2
   },
   "file_extension": ".py",
   "mimetype": "text/x-python",
   "name": "python",
   "nbconvert_exporter": "python",
   "pygments_lexer": "ipython2",
   "version": "2.7.6"
  }
 },
 "nbformat": 4,
 "nbformat_minor": 0
}