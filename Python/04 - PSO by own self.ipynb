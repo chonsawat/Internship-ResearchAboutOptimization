{
 "cells": [
  {
   "cell_type": "code",
   "execution_count": 1,
   "metadata": {
    "collapsed": true
   },
   "outputs": [],
   "source": [
    "import numpy as np\n",
    "import matplotlib.pyplot as plt\n",
    "\n",
    "from copy import copy\n",
    "from numpy.random import rand\n",
    "from numpy import sqrt"
   ]
  },
  {
   "cell_type": "code",
   "execution_count": 2,
   "outputs": [],
   "source": [
    "class Particle:\n",
    "    def __init__(self, Position=[], Cost=[], Velocity=[]):\n",
    "        self.Position = Position\n",
    "        self.Cost = Cost\n",
    "        self.Velocity = Velocity\n",
    "        self.Best = Particle"
   ],
   "metadata": {
    "collapsed": false,
    "pycharm": {
     "name": "#%%\n"
    }
   }
  },
  {
   "cell_type": "code",
   "execution_count": 3,
   "outputs": [],
   "source": [
    "global VarSize\n",
    "VarSize = 10"
   ],
   "metadata": {
    "collapsed": false,
    "pycharm": {
     "name": "#%%\n"
    }
   }
  },
  {
   "cell_type": "code",
   "execution_count": 4,
   "outputs": [],
   "source": [
    "problem = dict(\n",
    "    CostFunction = lambda x : sum([i**2 for i in x]),\n",
    "    nVar = 5,\n",
    "    VarMin = -10,\n",
    "    VarMax = 10,\n",
    ")\n",
    "\n",
    "params = dict(\n",
    "    MaxIt = 100,\n",
    "    nPop = 50,\n",
    "    w = 1,\n",
    "    wdamp = 0.99,\n",
    "    c1 = 2,\n",
    "    c2 = 2,\n",
    "    ShowIterInfo = True\n",
    ")\n",
    "\n",
    "# Constriction Coefficient\n",
    "kappa = 1\n",
    "phi1 = 2.05\n",
    "phi2 = 2.05\n",
    "phi = phi1 + phi2\n",
    "chi = 2*kappa / abs(2 - phi - sqrt(phi**2 - 4*phi))\n",
    "\n",
    "\n",
    "params2 = dict(\n",
    "    MaxIt = 100,\n",
    "    nPop = 50,\n",
    "    w = chi,\n",
    "    wdamp = 0.99,\n",
    "    c1 = chi*phi1,\n",
    "    c2 = chi*phi2,\n",
    "    ShowIterInfo = True\n",
    ")"
   ],
   "metadata": {
    "collapsed": false,
    "pycharm": {
     "name": "#%%\n"
    }
   }
  },
  {
   "cell_type": "code",
   "execution_count": 5,
   "outputs": [],
   "source": [
    "def PSO(problem, params):\n",
    "    # Get Problems\n",
    "    CostFunction, nVar, VarMin, VarMax = problem.values()\n",
    "\n",
    "    # Get Params\n",
    "    MaxIt, nPop, w, wdamp, c1, c2, ShowIterInfo = params.values()\n",
    "\n",
    "    # Initialization\n",
    "    particle = [Particle() for i in range(nPop)]\n",
    "    GlobalBest = Particle(Cost=float('inf'))\n",
    "    for i in range(nPop):\n",
    "        particle[i].Position = np.random.uniform(VarMin, VarMax, VarSize)\n",
    "        particle[i].Cost = CostFunction(particle[i].Position)\n",
    "        particle[i].Velocity = np.zeros(VarSize)\n",
    "\n",
    "        particle[i].Best.Position = particle[i].Position\n",
    "        particle[i].Best.Cost = particle[i].Cost\n",
    "\n",
    "        if particle[i].Cost < GlobalBest.Cost:\n",
    "            GlobalBest = copy(particle[i])\n",
    "\n",
    "    BestCosts = np.zeros( (MaxIt, 1) )\n",
    "\n",
    "    # Main loop of PSO\n",
    "    for it in range(MaxIt):\n",
    "        for i in range(nPop):\n",
    "            particle[i].Velocity = w*particle[i].Velocity \\\n",
    "                                    +c1*rand(VarSize)*(particle[i].Best.Position - particle[i].Position) \\\n",
    "                                    +c2*rand(VarSize)*(GlobalBest.Position - particle[i].Position)\n",
    "            particle[i].Position = particle[i].Position + particle[i].Velocity\n",
    "            particle[i].Cost = CostFunction(particle[i].Position)\n",
    "\n",
    "            if particle[i].Cost < particle[i].Best.Cost:\n",
    "                particle[i].Best = copy(particle[i])\n",
    "                if particle[i].Best.Cost < GlobalBest.Cost:\n",
    "                    GlobalBest = copy(particle[i].Best)\n",
    "\n",
    "        BestCosts[it] = GlobalBest.Cost\n",
    "\n",
    "        if ShowIterInfo:\n",
    "            print(f\"Iteration {it} : Best Cost = {BestCosts[it]}\")\n",
    "\n",
    "        w = w * wdamp\n",
    "\n",
    "    out = dict(\n",
    "        pop = particle,\n",
    "        BestSol = GlobalBest,\n",
    "        BestCosts = BestCosts\n",
    "    )\n",
    "\n",
    "    return out\n"
   ],
   "metadata": {
    "collapsed": false,
    "pycharm": {
     "name": "#%%\n"
    }
   }
  },
  {
   "cell_type": "code",
   "execution_count": 6,
   "outputs": [
    {
     "name": "stdout",
     "output_type": "stream",
     "text": [
      "Iteration 0 : Best Cost = [122.08853962]\n",
      "Iteration 1 : Best Cost = [122.08853962]\n",
      "Iteration 2 : Best Cost = [122.08853962]\n",
      "Iteration 3 : Best Cost = [122.08853962]\n",
      "Iteration 4 : Best Cost = [122.08853962]\n",
      "Iteration 5 : Best Cost = [103.52977397]\n",
      "Iteration 6 : Best Cost = [103.52977397]\n",
      "Iteration 7 : Best Cost = [103.52977397]\n",
      "Iteration 8 : Best Cost = [103.52977397]\n",
      "Iteration 9 : Best Cost = [103.52977397]\n",
      "Iteration 10 : Best Cost = [103.52977397]\n",
      "Iteration 11 : Best Cost = [103.52977397]\n",
      "Iteration 12 : Best Cost = [103.52977397]\n",
      "Iteration 13 : Best Cost = [103.52977397]\n",
      "Iteration 14 : Best Cost = [103.52977397]\n",
      "Iteration 15 : Best Cost = [103.52977397]\n",
      "Iteration 16 : Best Cost = [103.52977397]\n",
      "Iteration 17 : Best Cost = [103.52977397]\n",
      "Iteration 18 : Best Cost = [103.52977397]\n",
      "Iteration 19 : Best Cost = [103.52977397]\n",
      "Iteration 20 : Best Cost = [103.52977397]\n",
      "Iteration 21 : Best Cost = [103.52977397]\n",
      "Iteration 22 : Best Cost = [103.52977397]\n",
      "Iteration 23 : Best Cost = [103.52977397]\n",
      "Iteration 24 : Best Cost = [103.52977397]\n",
      "Iteration 25 : Best Cost = [103.52977397]\n",
      "Iteration 26 : Best Cost = [103.52977397]\n",
      "Iteration 27 : Best Cost = [103.52977397]\n",
      "Iteration 28 : Best Cost = [103.52977397]\n",
      "Iteration 29 : Best Cost = [103.52977397]\n",
      "Iteration 30 : Best Cost = [103.52977397]\n",
      "Iteration 31 : Best Cost = [103.52977397]\n",
      "Iteration 32 : Best Cost = [103.52977397]\n",
      "Iteration 33 : Best Cost = [103.52977397]\n",
      "Iteration 34 : Best Cost = [103.52977397]\n",
      "Iteration 35 : Best Cost = [103.52977397]\n",
      "Iteration 36 : Best Cost = [103.52977397]\n",
      "Iteration 37 : Best Cost = [103.52977397]\n",
      "Iteration 38 : Best Cost = [103.52977397]\n",
      "Iteration 39 : Best Cost = [103.52977397]\n",
      "Iteration 40 : Best Cost = [103.52977397]\n",
      "Iteration 41 : Best Cost = [103.52977397]\n",
      "Iteration 42 : Best Cost = [103.52977397]\n",
      "Iteration 43 : Best Cost = [103.52977397]\n",
      "Iteration 44 : Best Cost = [103.52977397]\n",
      "Iteration 45 : Best Cost = [103.52977397]\n",
      "Iteration 46 : Best Cost = [103.52977397]\n",
      "Iteration 47 : Best Cost = [103.52977397]\n",
      "Iteration 48 : Best Cost = [103.52977397]\n",
      "Iteration 49 : Best Cost = [103.52977397]\n",
      "Iteration 50 : Best Cost = [103.52977397]\n",
      "Iteration 51 : Best Cost = [103.52977397]\n",
      "Iteration 52 : Best Cost = [103.52977397]\n",
      "Iteration 53 : Best Cost = [96.311775]\n",
      "Iteration 54 : Best Cost = [96.311775]\n",
      "Iteration 55 : Best Cost = [96.311775]\n",
      "Iteration 56 : Best Cost = [95.25776526]\n",
      "Iteration 57 : Best Cost = [95.25776526]\n",
      "Iteration 58 : Best Cost = [48.66503162]\n",
      "Iteration 59 : Best Cost = [47.88352095]\n",
      "Iteration 60 : Best Cost = [47.88352095]\n",
      "Iteration 61 : Best Cost = [45.27361962]\n",
      "Iteration 62 : Best Cost = [45.27361962]\n",
      "Iteration 63 : Best Cost = [45.27361962]\n",
      "Iteration 64 : Best Cost = [40.19753222]\n",
      "Iteration 65 : Best Cost = [32.25297552]\n",
      "Iteration 66 : Best Cost = [20.51308051]\n",
      "Iteration 67 : Best Cost = [20.51308051]\n",
      "Iteration 68 : Best Cost = [20.51308051]\n",
      "Iteration 69 : Best Cost = [16.10147334]\n",
      "Iteration 70 : Best Cost = [14.76823702]\n",
      "Iteration 71 : Best Cost = [14.76823702]\n",
      "Iteration 72 : Best Cost = [10.80221987]\n",
      "Iteration 73 : Best Cost = [9.52913713]\n",
      "Iteration 74 : Best Cost = [9.52913713]\n",
      "Iteration 75 : Best Cost = [9.52913713]\n",
      "Iteration 76 : Best Cost = [8.19762524]\n",
      "Iteration 77 : Best Cost = [7.86431312]\n",
      "Iteration 78 : Best Cost = [6.47156801]\n",
      "Iteration 79 : Best Cost = [6.47156801]\n",
      "Iteration 80 : Best Cost = [5.12140864]\n",
      "Iteration 81 : Best Cost = [5.12140864]\n",
      "Iteration 82 : Best Cost = [3.72764525]\n",
      "Iteration 83 : Best Cost = [2.15446165]\n",
      "Iteration 84 : Best Cost = [2.15446165]\n",
      "Iteration 85 : Best Cost = [2.15446165]\n",
      "Iteration 86 : Best Cost = [2.13259388]\n",
      "Iteration 87 : Best Cost = [2.13259388]\n",
      "Iteration 88 : Best Cost = [1.51404159]\n",
      "Iteration 89 : Best Cost = [0.79630659]\n",
      "Iteration 90 : Best Cost = [0.68634823]\n",
      "Iteration 91 : Best Cost = [0.68634823]\n",
      "Iteration 92 : Best Cost = [0.68634823]\n",
      "Iteration 93 : Best Cost = [0.62142479]\n",
      "Iteration 94 : Best Cost = [0.507567]\n",
      "Iteration 95 : Best Cost = [0.507567]\n",
      "Iteration 96 : Best Cost = [0.43739339]\n",
      "Iteration 97 : Best Cost = [0.43739339]\n",
      "Iteration 98 : Best Cost = [0.24863125]\n",
      "Iteration 99 : Best Cost = [0.21288325]\n"
     ]
    }
   ],
   "source": [
    "out_1 = PSO(problem, params)\n",
    "BestCosts_1 = out_1['BestCosts']"
   ],
   "metadata": {
    "collapsed": false,
    "pycharm": {
     "name": "#%%\n"
    }
   }
  },
  {
   "cell_type": "code",
   "execution_count": 7,
   "outputs": [
    {
     "name": "stdout",
     "output_type": "stream",
     "text": [
      "Iteration 0 : Best Cost = [150.35944929]\n",
      "Iteration 1 : Best Cost = [150.35944929]\n",
      "Iteration 2 : Best Cost = [93.71810002]\n",
      "Iteration 3 : Best Cost = [93.71810002]\n",
      "Iteration 4 : Best Cost = [93.71810002]\n",
      "Iteration 5 : Best Cost = [87.06487741]\n",
      "Iteration 6 : Best Cost = [87.06487741]\n",
      "Iteration 7 : Best Cost = [79.37232657]\n",
      "Iteration 8 : Best Cost = [38.32804165]\n",
      "Iteration 9 : Best Cost = [38.32804165]\n",
      "Iteration 10 : Best Cost = [38.32804165]\n",
      "Iteration 11 : Best Cost = [23.79741247]\n",
      "Iteration 12 : Best Cost = [23.40685339]\n",
      "Iteration 13 : Best Cost = [13.07014929]\n",
      "Iteration 14 : Best Cost = [7.7879052]\n",
      "Iteration 15 : Best Cost = [7.7879052]\n",
      "Iteration 16 : Best Cost = [7.7879052]\n",
      "Iteration 17 : Best Cost = [7.7879052]\n",
      "Iteration 18 : Best Cost = [3.45927907]\n",
      "Iteration 19 : Best Cost = [2.82178564]\n",
      "Iteration 20 : Best Cost = [1.94149774]\n",
      "Iteration 21 : Best Cost = [1.27838233]\n",
      "Iteration 22 : Best Cost = [1.18942487]\n",
      "Iteration 23 : Best Cost = [1.00195437]\n",
      "Iteration 24 : Best Cost = [1.00195437]\n",
      "Iteration 25 : Best Cost = [0.41816115]\n",
      "Iteration 26 : Best Cost = [0.29797207]\n",
      "Iteration 27 : Best Cost = [0.12474291]\n",
      "Iteration 28 : Best Cost = [0.07492576]\n",
      "Iteration 29 : Best Cost = [0.07492576]\n",
      "Iteration 30 : Best Cost = [0.07492576]\n",
      "Iteration 31 : Best Cost = [0.04517419]\n",
      "Iteration 32 : Best Cost = [0.04517419]\n",
      "Iteration 33 : Best Cost = [0.02663863]\n",
      "Iteration 34 : Best Cost = [0.02663863]\n",
      "Iteration 35 : Best Cost = [0.02663863]\n",
      "Iteration 36 : Best Cost = [0.02663863]\n",
      "Iteration 37 : Best Cost = [0.02621212]\n",
      "Iteration 38 : Best Cost = [0.01052613]\n",
      "Iteration 39 : Best Cost = [0.00836099]\n",
      "Iteration 40 : Best Cost = [0.00788276]\n",
      "Iteration 41 : Best Cost = [0.00522389]\n",
      "Iteration 42 : Best Cost = [0.00420273]\n",
      "Iteration 43 : Best Cost = [0.00185754]\n",
      "Iteration 44 : Best Cost = [0.00180246]\n",
      "Iteration 45 : Best Cost = [0.00180246]\n",
      "Iteration 46 : Best Cost = [0.00048949]\n",
      "Iteration 47 : Best Cost = [0.00040623]\n",
      "Iteration 48 : Best Cost = [0.00040623]\n",
      "Iteration 49 : Best Cost = [0.00040623]\n",
      "Iteration 50 : Best Cost = [0.00016345]\n",
      "Iteration 51 : Best Cost = [0.00013393]\n",
      "Iteration 52 : Best Cost = [9.51144974e-05]\n",
      "Iteration 53 : Best Cost = [7.37801764e-05]\n",
      "Iteration 54 : Best Cost = [6.46062806e-05]\n",
      "Iteration 55 : Best Cost = [3.92275317e-05]\n",
      "Iteration 56 : Best Cost = [3.7128899e-05]\n",
      "Iteration 57 : Best Cost = [1.15852887e-05]\n",
      "Iteration 58 : Best Cost = [5.08443709e-06]\n",
      "Iteration 59 : Best Cost = [5.08302933e-06]\n",
      "Iteration 60 : Best Cost = [3.06265548e-06]\n",
      "Iteration 61 : Best Cost = [1.47320083e-06]\n",
      "Iteration 62 : Best Cost = [5.3272765e-07]\n",
      "Iteration 63 : Best Cost = [5.3272765e-07]\n",
      "Iteration 64 : Best Cost = [3.90245078e-07]\n",
      "Iteration 65 : Best Cost = [2.3984942e-07]\n",
      "Iteration 66 : Best Cost = [2.3984942e-07]\n",
      "Iteration 67 : Best Cost = [2.36708827e-07]\n",
      "Iteration 68 : Best Cost = [4.39209974e-08]\n",
      "Iteration 69 : Best Cost = [4.39209974e-08]\n",
      "Iteration 70 : Best Cost = [3.6825014e-08]\n",
      "Iteration 71 : Best Cost = [3.12406787e-08]\n",
      "Iteration 72 : Best Cost = [1.85148148e-08]\n",
      "Iteration 73 : Best Cost = [1.85148148e-08]\n",
      "Iteration 74 : Best Cost = [1.29827655e-08]\n",
      "Iteration 75 : Best Cost = [4.04890351e-09]\n",
      "Iteration 76 : Best Cost = [4.04890351e-09]\n",
      "Iteration 77 : Best Cost = [2.1527e-09]\n",
      "Iteration 78 : Best Cost = [1.2745902e-09]\n",
      "Iteration 79 : Best Cost = [1.05933669e-09]\n",
      "Iteration 80 : Best Cost = [5.81774167e-10]\n",
      "Iteration 81 : Best Cost = [4.87402351e-10]\n",
      "Iteration 82 : Best Cost = [2.1675305e-10]\n",
      "Iteration 83 : Best Cost = [2.1675305e-10]\n",
      "Iteration 84 : Best Cost = [1.70684231e-10]\n",
      "Iteration 85 : Best Cost = [4.09584901e-11]\n",
      "Iteration 86 : Best Cost = [4.09584901e-11]\n",
      "Iteration 87 : Best Cost = [2.20868405e-11]\n",
      "Iteration 88 : Best Cost = [1.70830116e-11]\n",
      "Iteration 89 : Best Cost = [7.04891947e-12]\n",
      "Iteration 90 : Best Cost = [3.13554563e-12]\n",
      "Iteration 91 : Best Cost = [1.37365149e-12]\n",
      "Iteration 92 : Best Cost = [1.31972665e-12]\n",
      "Iteration 93 : Best Cost = [3.60264337e-13]\n",
      "Iteration 94 : Best Cost = [2.39259452e-13]\n",
      "Iteration 95 : Best Cost = [2.07755338e-13]\n",
      "Iteration 96 : Best Cost = [1.02833135e-13]\n",
      "Iteration 97 : Best Cost = [6.63536879e-14]\n",
      "Iteration 98 : Best Cost = [3.80616306e-14]\n",
      "Iteration 99 : Best Cost = [1.85082027e-14]\n"
     ]
    }
   ],
   "source": [
    "out_2 = PSO(problem, params2)\n",
    "BestCosts_2 = out_2['BestCosts']"
   ],
   "metadata": {
    "collapsed": false,
    "pycharm": {
     "name": "#%%\n"
    }
   }
  },
  {
   "cell_type": "code",
   "execution_count": 8,
   "outputs": [
    {
     "data": {
      "text/plain": "<Figure size 864x576 with 1 Axes>",
      "image/png": "[encoded data removed]"
     },
     "metadata": {
      "needs_background": "light"
     },
     "output_type": "display_data"
    }
   ],
   "source": [
    "plt.figure(figsize=(12, 8))\n",
    "\n",
    "plt.semilogy(BestCosts_1)\n",
    "plt.xlabel('Iteration')\n",
    "plt.ylabel('Best Cost');\n",
    "\n",
    "plt.semilogy(BestCosts_2)\n",
    "plt.xlabel('Iteration')\n",
    "plt.ylabel('Best Cost')\n",
    "\n",
    "plt.legend([\"PSO\", \"PSO with Constriction Coefficient\"])\n",
    "plt.title(\"PSO vs PSO with constriction coefficient\");"
   ],
   "metadata": {
    "collapsed": false,
    "pycharm": {
     "name": "#%%\n"
    }
   }
  },
  {
   "cell_type": "code",
   "execution_count": null,
   "outputs": [],
   "source": [],
   "metadata": {
    "collapsed": false,
    "pycharm": {
     "name": "#%%\n"
    }
   }
  }
 ],
 "metadata": {
  "kernelspec": {
   "display_name": "Python 3",
   "language": "python",
   "name": "python3"
  },
  "language_info": {
   "codemirror_mode": {
    "name": "ipython",
    "version": 2
   },
   "file_extension": ".py",
   "mimetype": "text/x-python",
   "name": "python",
   "nbconvert_exporter": "python",
   "pygments_lexer": "ipython2",
   "version": "2.7.6"
  }
 },
 "nbformat": 4,
 "nbformat_minor": 0
}